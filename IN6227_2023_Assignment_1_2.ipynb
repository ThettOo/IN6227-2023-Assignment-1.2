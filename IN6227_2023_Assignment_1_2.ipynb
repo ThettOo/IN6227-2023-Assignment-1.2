{
  "nbformat": 4,
  "nbformat_minor": 0,
  "metadata": {
    "colab": {
      "provenance": [],
      "toc_visible": true,
      "authorship_tag": "ABX9TyMlES9F/+LXlxaKhliua/ME",
      "include_colab_link": true
    },
    "kernelspec": {
      "name": "python3",
      "display_name": "Python 3"
    },
    "language_info": {
      "name": "python"
    }
  },
  "cells": [
    {
      "cell_type": "markdown",
      "metadata": {
        "id": "view-in-github",
        "colab_type": "text"
      },
      "source": [
        "<a href=\"https://colab.research.google.com/github/ThettOo/IN6227-2023-Assignment-1.2/blob/main/IN6227_2023_Assignment_1_2.ipynb\" target=\"_parent\"><img src=\"https://colab.research.google.com/assets/colab-badge.svg\" alt=\"Open In Colab\"/></a>"
      ]
    },
    {
      "cell_type": "markdown",
      "source": [
        "#  Importing necessary libraries"
      ],
      "metadata": {
        "id": "_ImrHnyyEer5"
      }
    },
    {
      "cell_type": "code",
      "source": [
        "import pandas as pd\n",
        "import numpy as np\n",
        "from sklearn.model_selection import train_test_split\n",
        "from sklearn.tree import DecisionTreeClassifier\n",
        "from sklearn.ensemble import RandomForestClassifier\n",
        "from sklearn.metrics import accuracy_score, precision_score, recall_score, f1_score\n",
        "import time"
      ],
      "metadata": {
        "id": "sxu9CdJHEmmu"
      },
      "execution_count": null,
      "outputs": []
    },
    {
      "cell_type": "markdown",
      "source": [
        "\n",
        "# Data Exploration\n",
        "```\n",
        "# Load the Census Income dataset from the UCI ML Repository\n",
        "https://archive.ics.uci.edu/ml/datasets/Census+Income\n",
        "\n",
        "Two imcome types (classes) \n",
        "1.   >50K\n",
        "2.   <=50K  \n",
        "\n",
        "Category Features = \"workclass\", \"education\", \"marital-status\", \"occupation\", \"relationship\", \"race\", \"sex\", \"native-country\"\n",
        "Number Features = \"age\", \"fnlwgt\", \"education-num\", \"capital-gain\", \"capital-loss\", \"hours-per-week\"\n",
        "\n",
        "\n",
        "```\n",
        "\n"
      ],
      "metadata": {
        "id": "OaaRIZOxN2I7"
      }
    },
    {
      "cell_type": "code",
      "source": [
        "# Load the data\n",
        "data_url = 'https://archive.ics.uci.edu/ml/datasets/Census+Income'\n",
        "names = [\"age\", \"workclass\", \"fnlwgt\", \"education\", \"education-num\", \"marital-status\",\n",
        "         \"occupation\", \"relationship\", \"race\", \"sex\", \"capital-gain\", \"capital-loss\",\n",
        "         \"hours-per-week\", \"native-country\", \"income\"]\n",
        "data = pd.read_csv(\"https://archive.ics.uci.edu/ml/machine-learning-databases/adult/adult.data\",\n",
        "                   names=names, sep=',\\s', na_values=[\"?\"], engine='python')\n",
        "\n",
        "#Print the first few rows of the dataset\n",
        "print(data)\n"
      ],
      "metadata": {
        "colab": {
          "base_uri": "https://localhost:8080/"
        },
        "id": "nygPAZL6ToWu",
        "outputId": "19337bb9-852b-49bd-fbca-0f0538c1c72e"
      },
      "execution_count": null,
      "outputs": [
        {
          "output_type": "stream",
          "name": "stdout",
          "text": [
            "       age         workclass  fnlwgt   education  education-num  \\\n",
            "0       39         State-gov   77516   Bachelors             13   \n",
            "1       50  Self-emp-not-inc   83311   Bachelors             13   \n",
            "2       38           Private  215646     HS-grad              9   \n",
            "3       53           Private  234721        11th              7   \n",
            "4       28           Private  338409   Bachelors             13   \n",
            "...    ...               ...     ...         ...            ...   \n",
            "32556   27           Private  257302  Assoc-acdm             12   \n",
            "32557   40           Private  154374     HS-grad              9   \n",
            "32558   58           Private  151910     HS-grad              9   \n",
            "32559   22           Private  201490     HS-grad              9   \n",
            "32560   52      Self-emp-inc  287927     HS-grad              9   \n",
            "\n",
            "           marital-status         occupation   relationship   race     sex  \\\n",
            "0           Never-married       Adm-clerical  Not-in-family  White    Male   \n",
            "1      Married-civ-spouse    Exec-managerial        Husband  White    Male   \n",
            "2                Divorced  Handlers-cleaners  Not-in-family  White    Male   \n",
            "3      Married-civ-spouse  Handlers-cleaners        Husband  Black    Male   \n",
            "4      Married-civ-spouse     Prof-specialty           Wife  Black  Female   \n",
            "...                   ...                ...            ...    ...     ...   \n",
            "32556  Married-civ-spouse       Tech-support           Wife  White  Female   \n",
            "32557  Married-civ-spouse  Machine-op-inspct        Husband  White    Male   \n",
            "32558             Widowed       Adm-clerical      Unmarried  White  Female   \n",
            "32559       Never-married       Adm-clerical      Own-child  White    Male   \n",
            "32560  Married-civ-spouse    Exec-managerial           Wife  White  Female   \n",
            "\n",
            "       capital-gain  capital-loss  hours-per-week native-country income  \n",
            "0              2174             0              40  United-States  <=50K  \n",
            "1                 0             0              13  United-States  <=50K  \n",
            "2                 0             0              40  United-States  <=50K  \n",
            "3                 0             0              40  United-States  <=50K  \n",
            "4                 0             0              40           Cuba  <=50K  \n",
            "...             ...           ...             ...            ...    ...  \n",
            "32556             0             0              38  United-States  <=50K  \n",
            "32557             0             0              40  United-States   >50K  \n",
            "32558             0             0              40  United-States  <=50K  \n",
            "32559             0             0              20  United-States  <=50K  \n",
            "32560         15024             0              40  United-States   >50K  \n",
            "\n",
            "[32561 rows x 15 columns]\n"
          ]
        }
      ]
    },
    {
      "cell_type": "markdown",
      "source": [
        "**Summary statistics** "
      ],
      "metadata": {
        "id": "FYz6iH2UF6er"
      }
    },
    {
      "cell_type": "code",
      "source": [
        "# Display summary statistics\n",
        "print(data.describe())\n"
      ],
      "metadata": {
        "colab": {
          "base_uri": "https://localhost:8080/"
        },
        "id": "cHXL9HxzGO8i",
        "outputId": "d4a05612-9498-487e-d971-853c0aa1a5b6"
      },
      "execution_count": null,
      "outputs": [
        {
          "output_type": "stream",
          "name": "stdout",
          "text": [
            "                age        fnlwgt  education-num  capital-gain  capital-loss  \\\n",
            "count  32561.000000  3.256100e+04   32561.000000  32561.000000  32561.000000   \n",
            "mean      38.581647  1.897784e+05      10.080679   1077.648844     87.303830   \n",
            "std       13.640433  1.055500e+05       2.572720   7385.292085    402.960219   \n",
            "min       17.000000  1.228500e+04       1.000000      0.000000      0.000000   \n",
            "25%       28.000000  1.178270e+05       9.000000      0.000000      0.000000   \n",
            "50%       37.000000  1.783560e+05      10.000000      0.000000      0.000000   \n",
            "75%       48.000000  2.370510e+05      12.000000      0.000000      0.000000   \n",
            "max       90.000000  1.484705e+06      16.000000  99999.000000   4356.000000   \n",
            "\n",
            "       hours-per-week  \n",
            "count    32561.000000  \n",
            "mean        40.437456  \n",
            "std         12.347429  \n",
            "min          1.000000  \n",
            "25%         40.000000  \n",
            "50%         40.000000  \n",
            "75%         45.000000  \n",
            "max         99.000000  \n"
          ]
        }
      ]
    },
    {
      "cell_type": "markdown",
      "source": [
        "**Frequency and Mode**"
      ],
      "metadata": {
        "id": "MltcUErjWtkp"
      }
    },
    {
      "cell_type": "code",
      "source": [
        "import matplotlib.pyplot as plt\n",
        "# Compute frequency and mode of categorical columns\n",
        "for column in data.select_dtypes(include=\"object\"):\n",
        "    frequencies = data[column].value_counts(normalize=True)\n",
        "    modes = data[column].mode().values\n",
        "    print(\"Column:\", column)\n",
        "    print(\"Frequency:\")\n",
        "    print(frequencies)\n",
        "    print(\"Mode:\", modes)\n",
        "    print()\n",
        "\n",
        " # Plot bar chart of frequencies\n",
        "    plt.figure(figsize=(10,5))\n",
        "    plt.bar(frequencies.index, frequencies.values)\n",
        "    plt.title(f\"{column} Frequency\")\n",
        "    plt.xlabel(column)\n",
        "    plt.ylabel(\"Frequency\")\n",
        "    plt.xticks(rotation=45, ha=\"right\")\n",
        "    plt.show()"
      ],
      "metadata": {
        "colab": {
          "base_uri": "https://localhost:8080/",
          "height": 1000
        },
        "id": "3xL00fuDVtn9",
        "outputId": "39a2bf91-aab5-4361-f06f-21f1bed2c61e"
      },
      "execution_count": null,
      "outputs": [
        {
          "output_type": "stream",
          "name": "stdout",
          "text": [
            "Column: workclass\n",
            "Frequency:\n",
            "Private             0.738682\n",
            "Self-emp-not-inc    0.082701\n",
            "Local-gov           0.068120\n",
            "State-gov           0.042246\n",
            "Self-emp-inc        0.036322\n",
            "Federal-gov         0.031245\n",
            "Without-pay         0.000456\n",
            "Never-worked        0.000228\n",
            "Name: workclass, dtype: float64\n",
            "Mode: ['Private']\n",
            "\n"
          ]
        },
        {
          "output_type": "display_data",
          "data": {
            "text/plain": [
              "<Figure size 720x360 with 1 Axes>"
            ],
            "image/png": "[encoded data removed]"
          },
          "metadata": {
            "needs_background": "light"
          }
        },
        {
          "output_type": "stream",
          "name": "stdout",
          "text": [
            "Column: education\n",
            "Frequency:\n",
            "HS-grad         0.322502\n",
            "Some-college    0.223918\n",
            "Bachelors       0.164461\n",
            "Masters         0.052916\n",
            "Assoc-voc       0.042443\n",
            "11th            0.036086\n",
            "Assoc-acdm      0.032769\n",
            "10th            0.028654\n",
            "7th-8th         0.019840\n",
            "Prof-school     0.017690\n",
            "9th             0.015786\n",
            "12th            0.013298\n",
            "Doctorate       0.012684\n",
            "5th-6th         0.010227\n",
            "1st-4th         0.005160\n",
            "Preschool       0.001566\n",
            "Name: education, dtype: float64\n",
            "Mode: ['HS-grad']\n",
            "\n"
          ]
        },
        {
          "output_type": "display_data",
          "data": {
            "text/plain": [
              "<Figure size 720x360 with 1 Axes>"
            ],
            "image/png": "[encoded data removed]"
          },
          "metadata": {
            "needs_background": "light"
          }
        },
        {
          "output_type": "stream",
          "name": "stdout",
          "text": [
            "Column: marital-status\n",
            "Frequency:\n",
            "Married-civ-spouse       0.459937\n",
            "Never-married            0.328092\n",
            "Divorced                 0.136452\n",
            "Separated                0.031479\n",
            "Widowed                  0.030497\n",
            "Married-spouse-absent    0.012837\n",
            "Married-AF-spouse        0.000706\n",
            "Name: marital-status, dtype: float64\n",
            "Mode: ['Married-civ-spouse']\n",
            "\n"
          ]
        },
        {
          "output_type": "display_data",
          "data": {
            "text/plain": [
              "<Figure size 720x360 with 1 Axes>"
            ],
            "image/png": "[encoded data removed]"
          },
          "metadata": {
            "needs_background": "light"
          }
        },
        {
          "output_type": "stream",
          "name": "stdout",
          "text": [
            "Column: occupation\n",
            "Frequency:\n",
            "Prof-specialty       0.134774\n",
            "Craft-repair         0.133440\n",
            "Exec-managerial      0.132365\n",
            "Adm-clerical         0.122729\n",
            "Sales                0.118823\n",
            "Other-service        0.107266\n",
            "Machine-op-inspct    0.065174\n",
            "Transport-moving     0.051989\n",
            "Handlers-cleaners    0.044599\n",
            "Farming-fishing      0.032359\n",
            "Tech-support         0.030210\n",
            "Protective-serv      0.021128\n",
            "Priv-house-serv      0.004851\n",
            "Armed-Forces         0.000293\n",
            "Name: occupation, dtype: float64\n",
            "Mode: ['Prof-specialty']\n",
            "\n"
          ]
        },
        {
          "output_type": "display_data",
          "data": {
            "text/plain": [
              "<Figure size 720x360 with 1 Axes>"
            ],
            "image/png": "[encoded data removed]"
          },
          "metadata": {
            "needs_background": "light"
          }
        },
        {
          "output_type": "stream",
          "name": "stdout",
          "text": [
            "Column: relationship\n",
            "Frequency:\n",
            "Husband           0.405178\n",
            "Not-in-family     0.255060\n",
            "Own-child         0.155646\n",
            "Unmarried         0.105832\n",
            "Wife              0.048156\n",
            "Other-relative    0.030128\n",
            "Name: relationship, dtype: float64\n",
            "Mode: ['Husband']\n",
            "\n"
          ]
        },
        {
          "output_type": "display_data",
          "data": {
            "text/plain": [
              "<Figure size 720x360 with 1 Axes>"
            ],
            "image/png": "[encoded data removed]"
          },
          "metadata": {
            "needs_background": "light"
          }
        },
        {
          "output_type": "stream",
          "name": "stdout",
          "text": [
            "Column: race\n",
            "Frequency:\n",
            "White                 0.854274\n",
            "Black                 0.095943\n",
            "Asian-Pac-Islander    0.031909\n",
            "Amer-Indian-Eskimo    0.009551\n",
            "Other                 0.008323\n",
            "Name: race, dtype: float64\n",
            "Mode: ['White']\n",
            "\n"
          ]
        },
        {
          "output_type": "display_data",
          "data": {
            "text/plain": [
              "<Figure size 720x360 with 1 Axes>"
            ],
            "image/png": "[encoded data removed]"
          },
          "metadata": {
            "needs_background": "light"
          }
        },
        {
          "output_type": "stream",
          "name": "stdout",
          "text": [
            "Column: sex\n",
            "Frequency:\n",
            "Male      0.669205\n",
            "Female    0.330795\n",
            "Name: sex, dtype: float64\n",
            "Mode: ['Male']\n",
            "\n"
          ]
        },
        {
          "output_type": "display_data",
          "data": {
            "text/plain": [
              "<Figure size 720x360 with 1 Axes>"
            ],
            "image/png": "[encoded data removed]"
          },
          "metadata": {
            "needs_background": "light"
          }
        },
        {
          "output_type": "stream",
          "name": "stdout",
          "text": [
            "Column: native-country\n",
            "Frequency:\n",
            "United-States                 0.912190\n",
            "Mexico                        0.020108\n",
            "Philippines                   0.006192\n",
            "Germany                       0.004284\n",
            "Canada                        0.003784\n",
            "Puerto-Rico                   0.003565\n",
            "El-Salvador                   0.003315\n",
            "India                         0.003127\n",
            "Cuba                          0.002971\n",
            "England                       0.002814\n",
            "Jamaica                       0.002533\n",
            "South                         0.002502\n",
            "China                         0.002345\n",
            "Italy                         0.002283\n",
            "Dominican-Republic            0.002189\n",
            "Vietnam                       0.002095\n",
            "Guatemala                     0.002001\n",
            "Japan                         0.001939\n",
            "Poland                        0.001876\n",
            "Columbia                      0.001845\n",
            "Taiwan                        0.001595\n",
            "Haiti                         0.001376\n",
            "Iran                          0.001345\n",
            "Portugal                      0.001157\n",
            "Nicaragua                     0.001063\n",
            "Peru                          0.000969\n",
            "France                        0.000907\n",
            "Greece                        0.000907\n",
            "Ecuador                       0.000876\n",
            "Ireland                       0.000751\n",
            "Hong                          0.000625\n",
            "Cambodia                      0.000594\n",
            "Trinadad&Tobago               0.000594\n",
            "Laos                          0.000563\n",
            "Thailand                      0.000563\n",
            "Yugoslavia                    0.000500\n",
            "Outlying-US(Guam-USVI-etc)    0.000438\n",
            "Honduras                      0.000407\n",
            "Hungary                       0.000407\n",
            "Scotland                      0.000375\n",
            "Holand-Netherlands            0.000031\n",
            "Name: native-country, dtype: float64\n",
            "Mode: ['United-States']\n",
            "\n"
          ]
        },
        {
          "output_type": "display_data",
          "data": {
            "text/plain": [
              "<Figure size 720x360 with 1 Axes>"
            ],
            "image/png": "[encoded data removed]"
          },
          "metadata": {
            "needs_background": "light"
          }
        },
        {
          "output_type": "stream",
          "name": "stdout",
          "text": [
            "Column: income\n",
            "Frequency:\n",
            "<=50K    0.75919\n",
            ">50K     0.24081\n",
            "Name: income, dtype: float64\n",
            "Mode: ['<=50K']\n",
            "\n"
          ]
        },
        {
          "output_type": "display_data",
          "data": {
            "text/plain": [
              "<Figure size 720x360 with 1 Axes>"
            ],
            "image/png": "[encoded data removed]"
          },
          "metadata": {
            "needs_background": "light"
          }
        }
      ]
    },
    {
      "cell_type": "markdown",
      "source": [
        "workclass, occupation, native-country columns have null values. "
      ],
      "metadata": {
        "id": "AmPov6DCcZAb"
      }
    },
    {
      "cell_type": "markdown",
      "source": [
        "# Preprocessing the data\n",
        "**Missing Value handling**\n",
        "\n",
        "Missing values are replaced with the mode of the respective columns. Categorical variables are converted to numerical using the one-hot encoding technique. Numerical variables are normalized.\n",
        "\n"
      ],
      "metadata": {
        "id": "mLCgfD2QhBl2"
      }
    },
    {
      "cell_type": "code",
      "source": [
        "# Replace missing values with the mode\n",
        "data = data.replace('?', np.nan)\n",
        "data = data.apply(lambda x:x.fillna(x.value_counts().index[0]))\n",
        "\n",
        "# Encode categorical variables\n",
        "cat_columns = ['workclass', 'education', 'marital-status', 'occupation', 'relationship', 'race', 'sex', 'native-country']\n",
        "data = pd.get_dummies(data, columns=cat_columns)\n",
        "\n",
        "# Normalize numerical variables\n",
        "num_columns = ['age', 'fnlwgt', 'education-num', 'capital-gain', 'capital-loss', 'hours-per-week']\n",
        "data[num_columns] = (data[num_columns] - data[num_columns].mean()) / data[num_columns].std()\n",
        "\n",
        "\n",
        "data"
      ],
      "metadata": {
        "colab": {
          "base_uri": "https://localhost:8080/",
          "height": 522
        },
        "id": "Su3kHn62CjXy",
        "outputId": "ba1e8024-7ac1-42cb-e0a6-e11b77c98de4"
      },
      "execution_count": null,
      "outputs": [
        {
          "output_type": "execute_result",
          "data": {
            "text/plain": [
              "            age    fnlwgt  education-num  capital-gain  capital-loss  \\\n",
              "0      0.030670 -1.063594       1.134721      0.148451     -0.216656   \n",
              "1      0.837096 -1.008692       1.134721     -0.145918     -0.216656   \n",
              "2     -0.042641  0.245075      -0.420053     -0.145918     -0.216656   \n",
              "3      1.057031  0.425795      -1.197440     -0.145918     -0.216656   \n",
              "4     -0.775756  1.408154       1.134721     -0.145918     -0.216656   \n",
              "...         ...       ...            ...           ...           ...   \n",
              "32556 -0.849067  0.639731       0.746028     -0.145918     -0.216656   \n",
              "32557  0.103982 -0.335428      -0.420053     -0.145918     -0.216656   \n",
              "32558  1.423588 -0.358772      -0.420053     -0.145918     -0.216656   \n",
              "32559 -1.215625  0.110958      -0.420053     -0.145918     -0.216656   \n",
              "32560  0.983719  0.929878      -0.420053      1.888395     -0.216656   \n",
              "\n",
              "       hours-per-week income  workclass_Federal-gov  workclass_Local-gov  \\\n",
              "0           -0.035429  <=50K                      0                    0   \n",
              "1           -2.222119  <=50K                      0                    0   \n",
              "2           -0.035429  <=50K                      0                    0   \n",
              "3           -0.035429  <=50K                      0                    0   \n",
              "4           -0.035429  <=50K                      0                    0   \n",
              "...               ...    ...                    ...                  ...   \n",
              "32556       -0.197406  <=50K                      0                    0   \n",
              "32557       -0.035429   >50K                      0                    0   \n",
              "32558       -0.035429  <=50K                      0                    0   \n",
              "32559       -1.655199  <=50K                      0                    0   \n",
              "32560       -0.035429   >50K                      0                    0   \n",
              "\n",
              "       workclass_Never-worked  ...  native-country_Portugal  \\\n",
              "0                           0  ...                        0   \n",
              "1                           0  ...                        0   \n",
              "2                           0  ...                        0   \n",
              "3                           0  ...                        0   \n",
              "4                           0  ...                        0   \n",
              "...                       ...  ...                      ...   \n",
              "32556                       0  ...                        0   \n",
              "32557                       0  ...                        0   \n",
              "32558                       0  ...                        0   \n",
              "32559                       0  ...                        0   \n",
              "32560                       0  ...                        0   \n",
              "\n",
              "       native-country_Puerto-Rico  native-country_Scotland  \\\n",
              "0                               0                        0   \n",
              "1                               0                        0   \n",
              "2                               0                        0   \n",
              "3                               0                        0   \n",
              "4                               0                        0   \n",
              "...                           ...                      ...   \n",
              "32556                           0                        0   \n",
              "32557                           0                        0   \n",
              "32558                           0                        0   \n",
              "32559                           0                        0   \n",
              "32560                           0                        0   \n",
              "\n",
              "       native-country_South  native-country_Taiwan  native-country_Thailand  \\\n",
              "0                         0                      0                        0   \n",
              "1                         0                      0                        0   \n",
              "2                         0                      0                        0   \n",
              "3                         0                      0                        0   \n",
              "4                         0                      0                        0   \n",
              "...                     ...                    ...                      ...   \n",
              "32556                     0                      0                        0   \n",
              "32557                     0                      0                        0   \n",
              "32558                     0                      0                        0   \n",
              "32559                     0                      0                        0   \n",
              "32560                     0                      0                        0   \n",
              "\n",
              "       native-country_Trinadad&Tobago  native-country_United-States  \\\n",
              "0                                   0                             1   \n",
              "1                                   0                             1   \n",
              "2                                   0                             1   \n",
              "3                                   0                             1   \n",
              "4                                   0                             0   \n",
              "...                               ...                           ...   \n",
              "32556                               0                             1   \n",
              "32557                               0                             1   \n",
              "32558                               0                             1   \n",
              "32559                               0                             1   \n",
              "32560                               0                             1   \n",
              "\n",
              "       native-country_Vietnam  native-country_Yugoslavia  \n",
              "0                           0                          0  \n",
              "1                           0                          0  \n",
              "2                           0                          0  \n",
              "3                           0                          0  \n",
              "4                           0                          0  \n",
              "...                       ...                        ...  \n",
              "32556                       0                          0  \n",
              "32557                       0                          0  \n",
              "32558                       0                          0  \n",
              "32559                       0                          0  \n",
              "32560                       0                          0  \n",
              "\n",
              "[32561 rows x 106 columns]"
            ],
            "text/html": [
              "\n",
              "  <div id=\"df-c1a3de09-df77-41a5-a60c-2887bc7c723e\">\n",
              "    <div class=\"colab-df-container\">\n",
              "      <div>\n",
              "<style scoped>\n",
              "    .dataframe tbody tr th:only-of-type {\n",
              "        vertical-align: middle;\n",
              "    }\n",
              "\n",
              "    .dataframe tbody tr th {\n",
              "        vertical-align: top;\n",
              "    }\n",
              "\n",
              "    .dataframe thead th {\n",
              "        text-align: right;\n",
              "    }\n",
              "</style>\n",
              "<table border=\"1\" class=\"dataframe\">\n",
              "  <thead>\n",
              "    <tr style=\"text-align: right;\">\n",
              "      <th></th>\n",
              "      <th>age</th>\n",
              "      <th>fnlwgt</th>\n",
              "      <th>education-num</th>\n",
              "      <th>capital-gain</th>\n",
              "      <th>capital-loss</th>\n",
              "      <th>hours-per-week</th>\n",
              "      <th>income</th>\n",
              "      <th>workclass_Federal-gov</th>\n",
              "      <th>workclass_Local-gov</th>\n",
              "      <th>workclass_Never-worked</th>\n",
              "      <th>...</th>\n",
              "      <th>native-country_Portugal</th>\n",
              "      <th>native-country_Puerto-Rico</th>\n",
              "      <th>native-country_Scotland</th>\n",
              "      <th>native-country_South</th>\n",
              "      <th>native-country_Taiwan</th>\n",
              "      <th>native-country_Thailand</th>\n",
              "      <th>native-country_Trinadad&amp;Tobago</th>\n",
              "      <th>native-country_United-States</th>\n",
              "      <th>native-country_Vietnam</th>\n",
              "      <th>native-country_Yugoslavia</th>\n",
              "    </tr>\n",
              "  </thead>\n",
              "  <tbody>\n",
              "    <tr>\n",
              "      <th>0</th>\n",
              "      <td>0.030670</td>\n",
              "      <td>-1.063594</td>\n",
              "      <td>1.134721</td>\n",
              "      <td>0.148451</td>\n",
              "      <td>-0.216656</td>\n",
              "      <td>-0.035429</td>\n",
              "      <td>&lt;=50K</td>\n",
              "      <td>0</td>\n",
              "      <td>0</td>\n",
              "      <td>0</td>\n",
              "      <td>...</td>\n",
              "      <td>0</td>\n",
              "      <td>0</td>\n",
              "      <td>0</td>\n",
              "      <td>0</td>\n",
              "      <td>0</td>\n",
              "      <td>0</td>\n",
              "      <td>0</td>\n",
              "      <td>1</td>\n",
              "      <td>0</td>\n",
              "      <td>0</td>\n",
              "    </tr>\n",
              "    <tr>\n",
              "      <th>1</th>\n",
              "      <td>0.837096</td>\n",
              "      <td>-1.008692</td>\n",
              "      <td>1.134721</td>\n",
              "      <td>-0.145918</td>\n",
              "      <td>-0.216656</td>\n",
              "      <td>-2.222119</td>\n",
              "      <td>&lt;=50K</td>\n",
              "      <td>0</td>\n",
              "      <td>0</td>\n",
              "      <td>0</td>\n",
              "      <td>...</td>\n",
              "      <td>0</td>\n",
              "      <td>0</td>\n",
              "      <td>0</td>\n",
              "      <td>0</td>\n",
              "      <td>0</td>\n",
              "      <td>0</td>\n",
              "      <td>0</td>\n",
              "      <td>1</td>\n",
              "      <td>0</td>\n",
              "      <td>0</td>\n",
              "    </tr>\n",
              "    <tr>\n",
              "      <th>2</th>\n",
              "      <td>-0.042641</td>\n",
              "      <td>0.245075</td>\n",
              "      <td>-0.420053</td>\n",
              "      <td>-0.145918</td>\n",
              "      <td>-0.216656</td>\n",
              "      <td>-0.035429</td>\n",
              "      <td>&lt;=50K</td>\n",
              "      <td>0</td>\n",
              "      <td>0</td>\n",
              "      <td>0</td>\n",
              "      <td>...</td>\n",
              "      <td>0</td>\n",
              "      <td>0</td>\n",
              "      <td>0</td>\n",
              "      <td>0</td>\n",
              "      <td>0</td>\n",
              "      <td>0</td>\n",
              "      <td>0</td>\n",
              "      <td>1</td>\n",
              "      <td>0</td>\n",
              "      <td>0</td>\n",
              "    </tr>\n",
              "    <tr>\n",
              "      <th>3</th>\n",
              "      <td>1.057031</td>\n",
              "      <td>0.425795</td>\n",
              "      <td>-1.197440</td>\n",
              "      <td>-0.145918</td>\n",
              "      <td>-0.216656</td>\n",
              "      <td>-0.035429</td>\n",
              "      <td>&lt;=50K</td>\n",
              "      <td>0</td>\n",
              "      <td>0</td>\n",
              "      <td>0</td>\n",
              "      <td>...</td>\n",
              "      <td>0</td>\n",
              "      <td>0</td>\n",
              "      <td>0</td>\n",
              "      <td>0</td>\n",
              "      <td>0</td>\n",
              "      <td>0</td>\n",
              "      <td>0</td>\n",
              "      <td>1</td>\n",
              "      <td>0</td>\n",
              "      <td>0</td>\n",
              "    </tr>\n",
              "    <tr>\n",
              "      <th>4</th>\n",
              "      <td>-0.775756</td>\n",
              "      <td>1.408154</td>\n",
              "      <td>1.134721</td>\n",
              "      <td>-0.145918</td>\n",
              "      <td>-0.216656</td>\n",
              "      <td>-0.035429</td>\n",
              "      <td>&lt;=50K</td>\n",
              "      <td>0</td>\n",
              "      <td>0</td>\n",
              "      <td>0</td>\n",
              "      <td>...</td>\n",
              "      <td>0</td>\n",
              "      <td>0</td>\n",
              "      <td>0</td>\n",
              "      <td>0</td>\n",
              "      <td>0</td>\n",
              "      <td>0</td>\n",
              "      <td>0</td>\n",
              "      <td>0</td>\n",
              "      <td>0</td>\n",
              "      <td>0</td>\n",
              "    </tr>\n",
              "    <tr>\n",
              "      <th>...</th>\n",
              "      <td>...</td>\n",
              "      <td>...</td>\n",
              "      <td>...</td>\n",
              "      <td>...</td>\n",
              "      <td>...</td>\n",
              "      <td>...</td>\n",
              "      <td>...</td>\n",
              "      <td>...</td>\n",
              "      <td>...</td>\n",
              "      <td>...</td>\n",
              "      <td>...</td>\n",
              "      <td>...</td>\n",
              "      <td>...</td>\n",
              "      <td>...</td>\n",
              "      <td>...</td>\n",
              "      <td>...</td>\n",
              "      <td>...</td>\n",
              "      <td>...</td>\n",
              "      <td>...</td>\n",
              "      <td>...</td>\n",
              "      <td>...</td>\n",
              "    </tr>\n",
              "    <tr>\n",
              "      <th>32556</th>\n",
              "      <td>-0.849067</td>\n",
              "      <td>0.639731</td>\n",
              "      <td>0.746028</td>\n",
              "      <td>-0.145918</td>\n",
              "      <td>-0.216656</td>\n",
              "      <td>-0.197406</td>\n",
              "      <td>&lt;=50K</td>\n",
              "      <td>0</td>\n",
              "      <td>0</td>\n",
              "      <td>0</td>\n",
              "      <td>...</td>\n",
              "      <td>0</td>\n",
              "      <td>0</td>\n",
              "      <td>0</td>\n",
              "      <td>0</td>\n",
              "      <td>0</td>\n",
              "      <td>0</td>\n",
              "      <td>0</td>\n",
              "      <td>1</td>\n",
              "      <td>0</td>\n",
              "      <td>0</td>\n",
              "    </tr>\n",
              "    <tr>\n",
              "      <th>32557</th>\n",
              "      <td>0.103982</td>\n",
              "      <td>-0.335428</td>\n",
              "      <td>-0.420053</td>\n",
              "      <td>-0.145918</td>\n",
              "      <td>-0.216656</td>\n",
              "      <td>-0.035429</td>\n",
              "      <td>&gt;50K</td>\n",
              "      <td>0</td>\n",
              "      <td>0</td>\n",
              "      <td>0</td>\n",
              "      <td>...</td>\n",
              "      <td>0</td>\n",
              "      <td>0</td>\n",
              "      <td>0</td>\n",
              "      <td>0</td>\n",
              "      <td>0</td>\n",
              "      <td>0</td>\n",
              "      <td>0</td>\n",
              "      <td>1</td>\n",
              "      <td>0</td>\n",
              "      <td>0</td>\n",
              "    </tr>\n",
              "    <tr>\n",
              "      <th>32558</th>\n",
              "      <td>1.423588</td>\n",
              "      <td>-0.358772</td>\n",
              "      <td>-0.420053</td>\n",
              "      <td>-0.145918</td>\n",
              "      <td>-0.216656</td>\n",
              "      <td>-0.035429</td>\n",
              "      <td>&lt;=50K</td>\n",
              "      <td>0</td>\n",
              "      <td>0</td>\n",
              "      <td>0</td>\n",
              "      <td>...</td>\n",
              "      <td>0</td>\n",
              "      <td>0</td>\n",
              "      <td>0</td>\n",
              "      <td>0</td>\n",
              "      <td>0</td>\n",
              "      <td>0</td>\n",
              "      <td>0</td>\n",
              "      <td>1</td>\n",
              "      <td>0</td>\n",
              "      <td>0</td>\n",
              "    </tr>\n",
              "    <tr>\n",
              "      <th>32559</th>\n",
              "      <td>-1.215625</td>\n",
              "      <td>0.110958</td>\n",
              "      <td>-0.420053</td>\n",
              "      <td>-0.145918</td>\n",
              "      <td>-0.216656</td>\n",
              "      <td>-1.655199</td>\n",
              "      <td>&lt;=50K</td>\n",
              "      <td>0</td>\n",
              "      <td>0</td>\n",
              "      <td>0</td>\n",
              "      <td>...</td>\n",
              "      <td>0</td>\n",
              "      <td>0</td>\n",
              "      <td>0</td>\n",
              "      <td>0</td>\n",
              "      <td>0</td>\n",
              "      <td>0</td>\n",
              "      <td>0</td>\n",
              "      <td>1</td>\n",
              "      <td>0</td>\n",
              "      <td>0</td>\n",
              "    </tr>\n",
              "    <tr>\n",
              "      <th>32560</th>\n",
              "      <td>0.983719</td>\n",
              "      <td>0.929878</td>\n",
              "      <td>-0.420053</td>\n",
              "      <td>1.888395</td>\n",
              "      <td>-0.216656</td>\n",
              "      <td>-0.035429</td>\n",
              "      <td>&gt;50K</td>\n",
              "      <td>0</td>\n",
              "      <td>0</td>\n",
              "      <td>0</td>\n",
              "      <td>...</td>\n",
              "      <td>0</td>\n",
              "      <td>0</td>\n",
              "      <td>0</td>\n",
              "      <td>0</td>\n",
              "      <td>0</td>\n",
              "      <td>0</td>\n",
              "      <td>0</td>\n",
              "      <td>1</td>\n",
              "      <td>0</td>\n",
              "      <td>0</td>\n",
              "    </tr>\n",
              "  </tbody>\n",
              "</table>\n",
              "<p>32561 rows × 106 columns</p>\n",
              "</div>\n",
              "      <button class=\"colab-df-convert\" onclick=\"convertToInteractive('df-c1a3de09-df77-41a5-a60c-2887bc7c723e')\"\n",
              "              title=\"Convert this dataframe to an interactive table.\"\n",
              "              style=\"display:none;\">\n",
              "        \n",
              "  <svg xmlns=\"http://www.w3.org/2000/svg\" height=\"24px\"viewBox=\"0 0 24 24\"\n",
              "       width=\"24px\">\n",
              "    <path d=\"M0 0h24v24H0V0z\" fill=\"none\"/>\n",
              "    <path d=\"M18.56 5.44l.94 2.06.94-2.06 2.06-.94-2.06-.94-.94-2.06-.94 2.06-2.06.94zm-11 1L8.5 8.5l.94-2.06 2.06-.94-2.06-.94L8.5 2.5l-.94 2.06-2.06.94zm10 10l.94 2.06.94-2.06 2.06-.94-2.06-.94-.94-2.06-.94 2.06-2.06.94z\"/><path d=\"M17.41 7.96l-1.37-1.37c-.4-.4-.92-.59-1.43-.59-.52 0-1.04.2-1.43.59L10.3 9.45l-7.72 7.72c-.78.78-.78 2.05 0 2.83L4 21.41c.39.39.9.59 1.41.59.51 0 1.02-.2 1.41-.59l7.78-7.78 2.81-2.81c.8-.78.8-2.07 0-2.86zM5.41 20L4 18.59l7.72-7.72 1.47 1.35L5.41 20z\"/>\n",
              "  </svg>\n",
              "      </button>\n",
              "      \n",
              "  <style>\n",
              "    .colab-df-container {\n",
              "      display:flex;\n",
              "      flex-wrap:wrap;\n",
              "      gap: 12px;\n",
              "    }\n",
              "\n",
              "    .colab-df-convert {\n",
              "      background-color: #E8F0FE;\n",
              "      border: none;\n",
              "      border-radius: 50%;\n",
              "      cursor: pointer;\n",
              "      display: none;\n",
              "      fill: #1967D2;\n",
              "      height: 32px;\n",
              "      padding: 0 0 0 0;\n",
              "      width: 32px;\n",
              "    }\n",
              "\n",
              "    .colab-df-convert:hover {\n",
              "      background-color: #E2EBFA;\n",
              "      box-shadow: 0px 1px 2px rgba(60, 64, 67, 0.3), 0px 1px 3px 1px rgba(60, 64, 67, 0.15);\n",
              "      fill: #174EA6;\n",
              "    }\n",
              "\n",
              "    [theme=dark] .colab-df-convert {\n",
              "      background-color: #3B4455;\n",
              "      fill: #D2E3FC;\n",
              "    }\n",
              "\n",
              "    [theme=dark] .colab-df-convert:hover {\n",
              "      background-color: #434B5C;\n",
              "      box-shadow: 0px 1px 3px 1px rgba(0, 0, 0, 0.15);\n",
              "      filter: drop-shadow(0px 1px 2px rgba(0, 0, 0, 0.3));\n",
              "      fill: #FFFFFF;\n",
              "    }\n",
              "  </style>\n",
              "\n",
              "      <script>\n",
              "        const buttonEl =\n",
              "          document.querySelector('#df-c1a3de09-df77-41a5-a60c-2887bc7c723e button.colab-df-convert');\n",
              "        buttonEl.style.display =\n",
              "          google.colab.kernel.accessAllowed ? 'block' : 'none';\n",
              "\n",
              "        async function convertToInteractive(key) {\n",
              "          const element = document.querySelector('#df-c1a3de09-df77-41a5-a60c-2887bc7c723e');\n",
              "          const dataTable =\n",
              "            await google.colab.kernel.invokeFunction('convertToInteractive',\n",
              "                                                     [key], {});\n",
              "          if (!dataTable) return;\n",
              "\n",
              "          const docLinkHtml = 'Like what you see? Visit the ' +\n",
              "            '<a target=\"_blank\" href=https://colab.research.google.com/notebooks/data_table.ipynb>data table notebook</a>'\n",
              "            + ' to learn more about interactive tables.';\n",
              "          element.innerHTML = '';\n",
              "          dataTable['output_type'] = 'display_data';\n",
              "          await google.colab.output.renderOutput(dataTable, element);\n",
              "          const docLink = document.createElement('div');\n",
              "          docLink.innerHTML = docLinkHtml;\n",
              "          element.appendChild(docLink);\n",
              "        }\n",
              "      </script>\n",
              "    </div>\n",
              "  </div>\n",
              "  "
            ]
          },
          "metadata": {},
          "execution_count": 6
        }
      ]
    },
    {
      "cell_type": "markdown",
      "source": [
        "# Splitting the data \n",
        "\n",
        "The data is splitted into train and test sets with a ratio of 80:20 using the train_test_split function from sklearn.\n",
        "\n",
        "The train_test sets ratio with 70:30 is faster in training the models than the train_test set ratio 80:20. But the accuary of ratio 80:20 is better than 70:30 ratio. \n",
        "\n",
        "In this assignment, the data is not too much and it is acceptable time to train the model with the test set ratio 80:20. "
      ],
      "metadata": {
        "id": "8OMKBWeVxVCc"
      }
    },
    {
      "cell_type": "code",
      "source": [
        "# Split the data into train and test sets\n",
        "X = data.drop(columns=[\"income\"])\n",
        "y = data[\"income\"]\n",
        "X_train, X_test, y_train, y_test = train_test_split(X, y, test_size=0.2, random_state=42)\n",
        "\n"
      ],
      "metadata": {
        "id": "y3a_rUGaDFNW"
      },
      "execution_count": null,
      "outputs": []
    },
    {
      "cell_type": "markdown",
      "source": [
        "#  Training Two Models\n",
        "\n",
        "Two models, a Decision Tree Classifier and a Random Forest Classifier models are trained."
      ],
      "metadata": {
        "id": "RUFEEg3CERiA"
      }
    },
    {
      "cell_type": "code",
      "source": [
        "# Decision Tree Model\n",
        "start_time = time.time()\n",
        "dt = DecisionTreeClassifier(random_state=42)\n",
        "dt.fit(X_train, y_train)\n",
        "dt_train_time = time.time() - start_time\n",
        "\n",
        "# Random Forest Model\n",
        "start_time = time.time()\n",
        "rf = RandomForestClassifier(random_state=42)\n",
        "rf.fit(X_train, y_train)\n",
        "rf_train_time = time.time() - start_time\n",
        "\n"
      ],
      "metadata": {
        "id": "JLop7bYyDWMn"
      },
      "execution_count": null,
      "outputs": []
    },
    {
      "cell_type": "markdown",
      "source": [
        "**Fine-tune the hyperparameters of models**\n",
        "\n",
        "To fine-tune the hyperparameters of the decision tree and random forest models, GridSearchCV function from the scikit-learn library is used. This function performs an exhaustive search over a specified parameter grid, and uses cross-validation to evaluate the performance of each combination of hyperparameters. The combination of hyperparameters that yields the best cross-validation score is selected as the optimal hyperparameters for the model.\n",
        "\n"
      ],
      "metadata": {
        "id": "MOJtrktmKEMV"
      }
    },
    {
      "cell_type": "code",
      "source": [
        "from sklearn.model_selection import GridSearchCV\n",
        "\n",
        "# Decision Tree Hyperparameter Tuning\n",
        "dt_param_grid = {\n",
        "    'criterion': ['gini', 'entropy'],\n",
        "    'max_depth': [5, 10, 15, 20, None],\n",
        "    'min_samples_split': [2, 5, 10],\n",
        "    'min_samples_leaf': [1, 2, 4],\n",
        "    'max_features': ['sqrt', 'log2', None]\n",
        "}\n",
        "start_time = time.time()\n",
        "dt_grid_search = GridSearchCV(estimator=dt, param_grid=dt_param_grid, cv=5, n_jobs=-1)\n",
        "dt_grid_search.fit(X_train, y_train)\n",
        "dt_grid_search_train_time = time.time() - start_time\n",
        "\n",
        "# Random Forest Hyperparameter Tuning\n",
        "# rf_param_grid = {\n",
        "#     'n_estimators': [50, 100, 200, 500],\n",
        "#     'max_depth': [5, 10, 15, 20, None],\n",
        "#     'min_samples_split': [2, 5, 10],\n",
        "#     'min_samples_leaf': [1, 2, 4],\n",
        "#     'max_features': ['sqrt', 'log2', None]\n",
        "# }\n",
        "\n",
        "# Random Forest Hyperparameter Tuning\n",
        "# rf_param_grid = {\n",
        "#     'n_estimators': [50, 100, 150],\n",
        "#     'max_depth': [10, 20, 30],\n",
        "#     'min_samples_split': [2, 4, 6],\n",
        "#     'min_samples_leaf': [1, 2, 4],\n",
        "#     'max_features': [None, 'sqrt', 'log2']\n",
        "# }\n",
        "\n",
        "# Random Forest Hyperparameter Tuning\n",
        "rf_param_grid = {\n",
        "    'n_estimators': [100, 200],\n",
        "    'max_depth': [10, 20],\n",
        "    'min_samples_split': [2, 5],\n",
        "    'min_samples_leaf': [1, 2],\n",
        "    'max_features': ['sqrt', 'log2']\n",
        "}\n",
        "\n",
        "start_time = time.time()\n",
        "rf_grid_search = GridSearchCV(estimator=rf, param_grid=rf_param_grid, cv=5, n_jobs=-1)\n",
        "rf_grid_search.fit(X_train, y_train)\n",
        "rf_grid_search_train_time = time.time() - start_time\n"
      ],
      "metadata": {
        "id": "mKiwkQdlLF2Z"
      },
      "execution_count": null,
      "outputs": []
    },
    {
      "cell_type": "markdown",
      "source": [],
      "metadata": {
        "id": "Z2q697Zkq032"
      }
    },
    {
      "cell_type": "markdown",
      "source": [
        "#  Evaluating the models\n",
        "\n",
        "The models are evaluated on the test data using accuracy, precision, recall, and F1-score metrics. The time taken is also calculated to fit and predict for both models."
      ],
      "metadata": {
        "id": "bJS05zi90APQ"
      }
    },
    {
      "cell_type": "code",
      "source": [
        "# Decision Tree Model Evaluating\n",
        "y_pred_dt = dt.predict(X_test)\n",
        "dt_accuracy = accuracy_score(y_test, y_pred_dt)\n",
        "dt_precision = precision_score(y_test, y_pred_dt, pos_label='>50K')\n",
        "dt_recall = recall_score(y_test, y_pred_dt, pos_label='>50K')\n",
        "dt_f1 = f1_score(y_test, y_pred_dt, pos_label='>50K')\n",
        "\n",
        "# Random Forest Model Evaluating\n",
        "y_pred_rf = rf.predict(X_test)\n",
        "rf_accuracy = accuracy_score(y_test, y_pred_rf)\n",
        "rf_precision = precision_score(y_test, y_pred_rf, pos_label='>50K')\n",
        "rf_recall = recall_score(y_test, y_pred_rf, pos_label='>50K')\n",
        "rf_f1 = f1_score(y_test, y_pred_rf, pos_label='>50K')"
      ],
      "metadata": {
        "id": "GYSs3VO0DiyF"
      },
      "execution_count": null,
      "outputs": []
    },
    {
      "cell_type": "markdown",
      "source": [
        "**Evaluating Fine-tuned models**"
      ],
      "metadata": {
        "id": "ZcMH1VKvMZBl"
      }
    },
    {
      "cell_type": "code",
      "source": [
        "# Decision Tree Model Evaluating\n",
        "y_tune_pred_dt = dt_grid_search.predict(X_test)\n",
        "dt_tune_accuracy = accuracy_score(y_test, y_tune_pred_dt)\n",
        "dt_tune_precision = precision_score(y_test, y_tune_pred_dt, pos_label='>50K')\n",
        "dt_tune_recall = recall_score(y_test, y_tune_pred_dt, pos_label='>50K')\n",
        "dt_tune_f1 = f1_score(y_test, y_tune_pred_dt, pos_label='>50K')\n",
        "\n",
        "# Random Forest Model Evaluating\n",
        "y_tune_pred_rf = rf.predict(X_test)\n",
        "rf_tune_accuracy = accuracy_score(y_test, y_tune_pred_rf)\n",
        "rf_tune_precision = precision_score(y_test, y_tune_pred_rf, pos_label='>50K')\n",
        "rf_tune_recall = recall_score(y_test, y_tune_pred_rf, pos_label='>50K')\n",
        "rf_tune_f1 = f1_score(y_test, y_tune_pred_rf, pos_label='>50K')"
      ],
      "metadata": {
        "id": "BL8rfW_OM0MG"
      },
      "execution_count": null,
      "outputs": []
    },
    {
      "cell_type": "markdown",
      "source": [
        "#  Conclusion\n",
        "The Random Forest Classifier outperforms the Decision Tree Classifier with higher accuracy and F1-score, and lower time taken for fitting and predicting."
      ],
      "metadata": {
        "id": "ASvIhms20Hn7"
      }
    },
    {
      "cell_type": "code",
      "source": [
        "\n",
        "# Print the results\n",
        "print(\"Decision Tree Results:\")\n",
        "print(\"Training Time: {:.2f}s\".format(dt_train_time))\n",
        "print(\"Accuracy: {:.4f}\".format(dt_accuracy))\n",
        "print(\"Precision: {:.4f}\".format(dt_precision))\n",
        "print(\"Recall: {:.4f}\".format(dt_recall))\n",
        "print(\"F1 Score: {:.4f}\".format(dt_f1))\n",
        "print(\"\")\n",
        "\n",
        "print(\"Random Forest Results:\")\n",
        "print(\"Training Time: {:.2f}s\".format(rf_train_time))\n",
        "print(\"Accuracy: {:.4f}\".format(rf_accuracy))\n",
        "print(\"Precision: {:.4f}\".format(rf_precision))\n",
        "print(\"Recall: {:.4f}\".format(rf_recall))\n",
        "print(\"F1 Score: {:.4f}\".format(rf_f1))\n",
        "print(\"\")\n",
        "\n",
        "\n",
        "# Print the results\n",
        "print(\"Decision Tree with Fine-Tune Results:\")\n",
        "print(\"Training Time: {:.2f}s\".format(dt_grid_search_train_time))\n",
        "print(\"Accuracy: {:.4f}\".format(dt_tune_accuracy))\n",
        "print(\"Precision: {:.4f}\".format(dt_tune_precision))\n",
        "print(\"Recall: {:.4f}\".format(dt_tune_recall))\n",
        "print(\"F1 Score: {:.4f}\".format(dt_tune_f1))\n",
        "print(\"\")\n",
        "\n",
        "print(\"Random Forest with Fine-Tune Results:\")\n",
        "print(\"Training Time: {:.2f}s\".format(rf_grid_search_train_time))\n",
        "print(\"Accuracy: {:.4f}\".format(rf_tune_accuracy))\n",
        "print(\"Precision: {:.4f}\".format(rf_tune_precision))\n",
        "print(\"Recall: {:.4f}\".format(rf_tune_recall))\n",
        "print(\"F1 Score: {:.4f}\".format(rf_tune_f1))\n",
        "print(\"\")\n",
        "\n",
        "# Draw conclusions\n",
        "if dt_accuracy > rf_accuracy:\n",
        "    print('\\nWithout fine-tune models, Decision Tree Classifier performed better than Random Forest Classifier')\n",
        "else:\n",
        "    print('\\nWithout fine-tune models, Random Forest Classifier performed better than Decision Tree Classifier')\n",
        "\n",
        "\n",
        "# Draw conclusions\n",
        "if dt_tune_accuracy > rf_tune_accuracy:\n",
        "    print('\\nWith fine-tune models, Decision Tree Classifier performed better than Random Forest Classifier')\n",
        "else:\n",
        "    print('\\nWith fine-tune models,Random Forest Classifier performed better than Decision Tree Classifier')\n",
        "\n",
        "\n",
        "# Draw conclusions with and without fine-tune Decision Tree\n",
        "if dt_accuracy > dt_tune_accuracy:\n",
        "    print('\\n Decision Tree Classifier without fine-tune performed better than with fine-tune')\n",
        "else:\n",
        "    print('\\nDecision Tree Classifier with fine-tune performed better than without fine-tune')\n",
        "\n",
        "\n",
        "# Draw conclusions with and without fine-tune Random Forest\n",
        "if rf_accuracy > rf_tune_accuracy:\n",
        "    print('\\nRandom Forest Classifier without fine-tune performed better than with fine-tune')\n",
        "else:\n",
        "    print('\\nRandom Forest Classifier with fine-tune performed better than without fine-tune')\n",
        "\n"
      ],
      "metadata": {
        "id": "34kQp9nED_JY",
        "colab": {
          "base_uri": "https://localhost:8080/"
        },
        "outputId": "3422a80a-812a-4091-e825-e89da7047a1f"
      },
      "execution_count": null,
      "outputs": [
        {
          "output_type": "stream",
          "name": "stdout",
          "text": [
            "Decision Tree Results:\n",
            "Training Time: 0.55s\n",
            "Accuracy: 0.8225\n",
            "Precision: 0.6293\n",
            "Recall: 0.6429\n",
            "F1 Score: 0.6360\n",
            "\n",
            "Random Forest Results:\n",
            "Training Time: 4.85s\n",
            "Accuracy: 0.8587\n",
            "Precision: 0.7420\n",
            "Recall: 0.6353\n",
            "F1 Score: 0.6845\n",
            "\n",
            "Decision Tree with Fine-Tune Results:\n",
            "Training Time: 170.97s\n",
            "Accuracy: 0.8600\n",
            "Precision: 0.7699\n",
            "Recall: 0.5983\n",
            "F1 Score: 0.6734\n",
            "\n",
            "Random Forest with Fine-Tune Results:\n",
            "Training Time: 406.45s\n",
            "Accuracy: 0.8587\n",
            "Precision: 0.7420\n",
            "Recall: 0.6353\n",
            "F1 Score: 0.6845\n",
            "\n",
            "Without fine-tune models, Random Forest Classifier performed better than Decision Tree Classifier\n",
            "\n",
            "With fine-tune models, Decision Tree Classifier performed better than Random Forest Classifier\n",
            "\n",
            "Decision Tree Classifier with fine-tune performed better than without fine-tune\n",
            "\n",
            "Random Forest Classifier with fine-tune performed better than without fine-tune\n"
          ]
        }
      ]
    }
  ]
}